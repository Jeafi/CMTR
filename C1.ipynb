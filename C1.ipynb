{
 "cells": [
  {
   "cell_type": "code",
   "execution_count": 19,
   "metadata": {},
   "outputs": [],
   "source": [
    "import pandas as pd\n",
    "import numpy as np\n",
    "pd.set_option('display.max_columns', 500)\n",
    "import matplotlib.pyplot as plt\n",
    "import seaborn as sns\n",
    "from tqdm import tqdm\n",
    "color = sns.color_palette()\n",
    "%matplotlib inline\n",
    "\n",
    "tr_queries = pd.read_csv('data/train_queries.csv')\n",
    "te_queries = pd.read_csv('data/test_queries.csv')\n",
    "tr_plans = pd.read_csv('data/train_plans.csv')\n",
    "te_plans = pd.read_csv('data/test_plans.csv')\n",
    "tr_click = pd.read_csv('data/train_clicks.csv')\n",
    "# t_order = 't_order.csv'\n",
    "# t_user = 't_user.csv'"
   ]
  },
  {
   "cell_type": "code",
   "execution_count": 37,
   "metadata": {},
   "outputs": [],
   "source": [
    "from tqdm import tqdm_notebook\n",
    "import json"
   ]
  },
  {
   "cell_type": "code",
   "execution_count": 29,
   "metadata": {},
   "outputs": [
    {
     "data": {
      "text/html": [
       "<div>\n",
       "<style scoped>\n",
       "    .dataframe tbody tr th:only-of-type {\n",
       "        vertical-align: middle;\n",
       "    }\n",
       "\n",
       "    .dataframe tbody tr th {\n",
       "        vertical-align: top;\n",
       "    }\n",
       "\n",
       "    .dataframe thead th {\n",
       "        text-align: right;\n",
       "    }\n",
       "</style>\n",
       "<table border=\"1\" class=\"dataframe\">\n",
       "  <thead>\n",
       "    <tr style=\"text-align: right;\">\n",
       "      <th></th>\n",
       "      <th>sid</th>\n",
       "      <th>click_time</th>\n",
       "      <th>click_mode</th>\n",
       "    </tr>\n",
       "  </thead>\n",
       "  <tbody>\n",
       "    <tr>\n",
       "      <th>453331</th>\n",
       "      <td>2429419</td>\n",
       "      <td>2018-11-30 09:52:35</td>\n",
       "      <td>1</td>\n",
       "    </tr>\n",
       "    <tr>\n",
       "      <th>453332</th>\n",
       "      <td>1240915</td>\n",
       "      <td>2018-11-22 12:44:59</td>\n",
       "      <td>5</td>\n",
       "    </tr>\n",
       "    <tr>\n",
       "      <th>453333</th>\n",
       "      <td>1924734</td>\n",
       "      <td>2018-11-13 07:08:39</td>\n",
       "      <td>2</td>\n",
       "    </tr>\n",
       "    <tr>\n",
       "      <th>453334</th>\n",
       "      <td>2975619</td>\n",
       "      <td>2018-11-02 00:27:30</td>\n",
       "      <td>7</td>\n",
       "    </tr>\n",
       "    <tr>\n",
       "      <th>453335</th>\n",
       "      <td>1666846</td>\n",
       "      <td>2018-10-23 15:25:20</td>\n",
       "      <td>4</td>\n",
       "    </tr>\n",
       "  </tbody>\n",
       "</table>\n",
       "</div>"
      ],
      "text/plain": [
       "            sid           click_time  click_mode\n",
       "453331  2429419  2018-11-30 09:52:35           1\n",
       "453332  1240915  2018-11-22 12:44:59           5\n",
       "453333  1924734  2018-11-13 07:08:39           2\n",
       "453334  2975619  2018-11-02 00:27:30           7\n",
       "453335  1666846  2018-10-23 15:25:20           4"
      ]
     },
     "execution_count": 29,
     "metadata": {},
     "output_type": "execute_result"
    }
   ],
   "source": [
    "train_clicks.tail()"
   ]
  },
  {
   "cell_type": "code",
   "execution_count": 11,
   "metadata": {},
   "outputs": [
    {
     "name": "stdout",
     "output_type": "stream",
     "text": [
      "2     136491\n",
      "7      78209\n",
      "1      70369\n",
      "9      48864\n",
      "5      47480\n",
      "3      24626\n",
      "10     14882\n",
      "4      12606\n",
      "6      11863\n",
      "11      6089\n",
      "8       1857\n",
      "Name: click_mode, dtype: int64\n"
     ]
    },
    {
     "data": {
      "text/plain": [
       "<matplotlib.axes._subplots.AxesSubplot at 0x1f45e8a93c8>"
      ]
     },
     "execution_count": 11,
     "metadata": {},
     "output_type": "execute_result"
    },
    {
     "data": {
      "image/png": "[encoded data removed]",
      "text/plain": [
       "<Figure size 432x288 with 1 Axes>"
      ]
     },
     "metadata": {},
     "output_type": "display_data"
    }
   ],
   "source": [
    "print(train_clicks['click_mode'].value_counts())\n",
    "# plt.hist(df_click['pid'],rwidth = 0.2)\n",
    "train_clicks['click_mode'].hist(bins=10) #Series"
   ]
  },
  {
   "cell_type": "code",
   "execution_count": 28,
   "metadata": {},
   "outputs": [
    {
     "data": {
      "text/html": [
       "<div>\n",
       "<style scoped>\n",
       "    .dataframe tbody tr th:only-of-type {\n",
       "        vertical-align: middle;\n",
       "    }\n",
       "\n",
       "    .dataframe tbody tr th {\n",
       "        vertical-align: top;\n",
       "    }\n",
       "\n",
       "    .dataframe thead th {\n",
       "        text-align: right;\n",
       "    }\n",
       "</style>\n",
       "<table border=\"1\" class=\"dataframe\">\n",
       "  <thead>\n",
       "    <tr style=\"text-align: right;\">\n",
       "      <th></th>\n",
       "      <th>sid</th>\n",
       "      <th>plan_time</th>\n",
       "      <th>plans</th>\n",
       "    </tr>\n",
       "  </thead>\n",
       "  <tbody>\n",
       "    <tr>\n",
       "      <th>491049</th>\n",
       "      <td>1686546</td>\n",
       "      <td>2018-10-23 18:36:37</td>\n",
       "      <td>[{\"distance\": 1423, \"price\": \"\", \"eta\": 427, \"...</td>\n",
       "    </tr>\n",
       "    <tr>\n",
       "      <th>491050</th>\n",
       "      <td>850092</td>\n",
       "      <td>2018-11-26 09:48:50</td>\n",
       "      <td>[{\"distance\": 2759, \"price\": 1400, \"eta\": 1106...</td>\n",
       "    </tr>\n",
       "    <tr>\n",
       "      <th>491051</th>\n",
       "      <td>1603178</td>\n",
       "      <td>2018-10-03 11:45:28</td>\n",
       "      <td>[{\"distance\": 40258, \"price\": 3000, \"eta\": 486...</td>\n",
       "    </tr>\n",
       "    <tr>\n",
       "      <th>491052</th>\n",
       "      <td>165256</td>\n",
       "      <td>2018-10-20 09:47:39</td>\n",
       "      <td>[{\"distance\": 5539, \"price\": 300, \"eta\": 1259,...</td>\n",
       "    </tr>\n",
       "    <tr>\n",
       "      <th>491053</th>\n",
       "      <td>2502376</td>\n",
       "      <td>2018-10-07 20:55:19</td>\n",
       "      <td>[{\"distance\": 9052, \"price\": \"\", \"eta\": 934, \"...</td>\n",
       "    </tr>\n",
       "  </tbody>\n",
       "</table>\n",
       "</div>"
      ],
      "text/plain": [
       "            sid            plan_time  \\\n",
       "491049  1686546  2018-10-23 18:36:37   \n",
       "491050   850092  2018-11-26 09:48:50   \n",
       "491051  1603178  2018-10-03 11:45:28   \n",
       "491052   165256  2018-10-20 09:47:39   \n",
       "491053  2502376  2018-10-07 20:55:19   \n",
       "\n",
       "                                                    plans  \n",
       "491049  [{\"distance\": 1423, \"price\": \"\", \"eta\": 427, \"...  \n",
       "491050  [{\"distance\": 2759, \"price\": 1400, \"eta\": 1106...  \n",
       "491051  [{\"distance\": 40258, \"price\": 3000, \"eta\": 486...  \n",
       "491052  [{\"distance\": 5539, \"price\": 300, \"eta\": 1259,...  \n",
       "491053  [{\"distance\": 9052, \"price\": \"\", \"eta\": 934, \"...  "
      ]
     },
     "execution_count": 28,
     "metadata": {},
     "output_type": "execute_result"
    }
   ],
   "source": [
    "train_plans.tail()"
   ]
  },
  {
   "cell_type": "code",
   "execution_count": 27,
   "metadata": {},
   "outputs": [
    {
     "data": {
      "text/html": [
       "<div>\n",
       "<style scoped>\n",
       "    .dataframe tbody tr th:only-of-type {\n",
       "        vertical-align: middle;\n",
       "    }\n",
       "\n",
       "    .dataframe tbody tr th {\n",
       "        vertical-align: top;\n",
       "    }\n",
       "\n",
       "    .dataframe thead th {\n",
       "        text-align: right;\n",
       "    }\n",
       "</style>\n",
       "<table border=\"1\" class=\"dataframe\">\n",
       "  <thead>\n",
       "    <tr style=\"text-align: right;\">\n",
       "      <th></th>\n",
       "      <th>sid</th>\n",
       "      <th>pid</th>\n",
       "      <th>req_time</th>\n",
       "      <th>o</th>\n",
       "      <th>d</th>\n",
       "    </tr>\n",
       "  </thead>\n",
       "  <tbody>\n",
       "    <tr>\n",
       "      <th>499995</th>\n",
       "      <td>3136563</td>\n",
       "      <td>113317.0</td>\n",
       "      <td>2018-10-26 12:53:24</td>\n",
       "      <td>116.54,40.07</td>\n",
       "      <td>116.38,39.94</td>\n",
       "    </tr>\n",
       "    <tr>\n",
       "      <th>499996</th>\n",
       "      <td>1775691</td>\n",
       "      <td>NaN</td>\n",
       "      <td>2018-10-09 16:40:51</td>\n",
       "      <td>116.50,40.00</td>\n",
       "      <td>116.58,39.91</td>\n",
       "    </tr>\n",
       "    <tr>\n",
       "      <th>499997</th>\n",
       "      <td>722748</td>\n",
       "      <td>193800.0</td>\n",
       "      <td>2018-10-01 16:46:52</td>\n",
       "      <td>116.17,39.71</td>\n",
       "      <td>116.20,39.75</td>\n",
       "    </tr>\n",
       "    <tr>\n",
       "      <th>499998</th>\n",
       "      <td>1594185</td>\n",
       "      <td>NaN</td>\n",
       "      <td>2018-10-03 12:27:51</td>\n",
       "      <td>116.32,40.06</td>\n",
       "      <td>116.16,40.23</td>\n",
       "    </tr>\n",
       "    <tr>\n",
       "      <th>499999</th>\n",
       "      <td>1795967</td>\n",
       "      <td>101673.0</td>\n",
       "      <td>2018-11-29 10:01:13</td>\n",
       "      <td>116.50,39.89</td>\n",
       "      <td>116.37,39.94</td>\n",
       "    </tr>\n",
       "  </tbody>\n",
       "</table>\n",
       "</div>"
      ],
      "text/plain": [
       "            sid       pid             req_time             o             d\n",
       "499995  3136563  113317.0  2018-10-26 12:53:24  116.54,40.07  116.38,39.94\n",
       "499996  1775691       NaN  2018-10-09 16:40:51  116.50,40.00  116.58,39.91\n",
       "499997   722748  193800.0  2018-10-01 16:46:52  116.17,39.71  116.20,39.75\n",
       "499998  1594185       NaN  2018-10-03 12:27:51  116.32,40.06  116.16,40.23\n",
       "499999  1795967  101673.0  2018-11-29 10:01:13  116.50,39.89  116.37,39.94"
      ]
     },
     "execution_count": 27,
     "metadata": {},
     "output_type": "execute_result"
    }
   ],
   "source": [
    "train_queries.tail()"
   ]
  },
  {
   "cell_type": "code",
   "execution_count": 20,
   "metadata": {},
   "outputs": [
    {
     "name": "stderr",
     "output_type": "stream",
     "text": [
      "D:\\zhuangji\\anaconda\\lib\\site-packages\\ipykernel_launcher.py:9: FutureWarning: Sorting because non-concatenation axis is not aligned. A future version\n",
      "of pandas will change to not sort by default.\n",
      "\n",
      "To accept the future behavior, pass 'sort=True'.\n",
      "\n",
      "To retain the current behavior and silence the warning, pass sort=False\n",
      "\n",
      "  if __name__ == '__main__':\n"
     ]
    },
    {
     "name": "stdout",
     "output_type": "stream",
     "text": [
      "total data size: (594358, 7)\n",
      "raw data columns: click_mode, d, o, pid, plans, req_time, sid\n"
     ]
    }
   ],
   "source": [
    "tr_data = tr_queries.merge(tr_click, on='sid', how='left')\n",
    "tr_data = tr_data.merge(tr_plans, on='sid', how='left')\n",
    "tr_data = tr_data.drop(['click_time'], axis=1)\n",
    "tr_data['click_mode'] = tr_data['click_mode'].fillna(0)\n",
    "\n",
    "te_data = te_queries.merge(te_plans, on='sid', how='left')\n",
    "te_data['click_mode'] = -1\n",
    "\n",
    "data = pd.concat([tr_data, te_data], axis=0)\n",
    "data = data.drop(['plan_time'], axis=1)\n",
    "data = data.reset_index(drop=True)\n",
    "print('total data size: {}'.format(data.shape))\n",
    "print('raw data columns: {}'.format(', '.join(data.columns)))"
   ]
  },
  {
   "cell_type": "code",
   "execution_count": 22,
   "metadata": {},
   "outputs": [
    {
     "data": {
      "text/html": [
       "<div>\n",
       "<style scoped>\n",
       "    .dataframe tbody tr th:only-of-type {\n",
       "        vertical-align: middle;\n",
       "    }\n",
       "\n",
       "    .dataframe tbody tr th {\n",
       "        vertical-align: top;\n",
       "    }\n",
       "\n",
       "    .dataframe thead th {\n",
       "        text-align: right;\n",
       "    }\n",
       "</style>\n",
       "<table border=\"1\" class=\"dataframe\">\n",
       "  <thead>\n",
       "    <tr style=\"text-align: right;\">\n",
       "      <th></th>\n",
       "      <th>sid</th>\n",
       "      <th>pid</th>\n",
       "      <th>req_time</th>\n",
       "      <th>o</th>\n",
       "      <th>d</th>\n",
       "      <th>click_mode</th>\n",
       "      <th>plan_time</th>\n",
       "      <th>plans</th>\n",
       "    </tr>\n",
       "  </thead>\n",
       "  <tbody>\n",
       "    <tr>\n",
       "      <th>499995</th>\n",
       "      <td>3136563</td>\n",
       "      <td>113317.0</td>\n",
       "      <td>2018-10-26 12:53:24</td>\n",
       "      <td>116.54,40.07</td>\n",
       "      <td>116.38,39.94</td>\n",
       "      <td>2.0</td>\n",
       "      <td>2018-10-26 12:53:24</td>\n",
       "      <td>[{\"distance\": 29571, \"price\": 600, \"eta\": 4449...</td>\n",
       "    </tr>\n",
       "    <tr>\n",
       "      <th>499996</th>\n",
       "      <td>1775691</td>\n",
       "      <td>NaN</td>\n",
       "      <td>2018-10-09 16:40:51</td>\n",
       "      <td>116.50,40.00</td>\n",
       "      <td>116.58,39.91</td>\n",
       "      <td>0.0</td>\n",
       "      <td>NaN</td>\n",
       "      <td>NaN</td>\n",
       "    </tr>\n",
       "    <tr>\n",
       "      <th>499997</th>\n",
       "      <td>722748</td>\n",
       "      <td>193800.0</td>\n",
       "      <td>2018-10-01 16:46:52</td>\n",
       "      <td>116.17,39.71</td>\n",
       "      <td>116.20,39.75</td>\n",
       "      <td>6.0</td>\n",
       "      <td>2018-10-01 16:46:52</td>\n",
       "      <td>[{\"distance\": 7634, \"price\": \"\", \"eta\": 2308, ...</td>\n",
       "    </tr>\n",
       "    <tr>\n",
       "      <th>499998</th>\n",
       "      <td>1594185</td>\n",
       "      <td>NaN</td>\n",
       "      <td>2018-10-03 12:27:51</td>\n",
       "      <td>116.32,40.06</td>\n",
       "      <td>116.16,40.23</td>\n",
       "      <td>3.0</td>\n",
       "      <td>2018-10-03 12:27:51</td>\n",
       "      <td>[{\"distance\": 26955, \"price\": \"\", \"eta\": 2084,...</td>\n",
       "    </tr>\n",
       "    <tr>\n",
       "      <th>499999</th>\n",
       "      <td>1795967</td>\n",
       "      <td>101673.0</td>\n",
       "      <td>2018-11-29 10:01:13</td>\n",
       "      <td>116.50,39.89</td>\n",
       "      <td>116.37,39.94</td>\n",
       "      <td>4.0</td>\n",
       "      <td>2018-11-29 10:01:13</td>\n",
       "      <td>[{\"distance\": 19329, \"price\": 500, \"eta\": 3787...</td>\n",
       "    </tr>\n",
       "  </tbody>\n",
       "</table>\n",
       "</div>"
      ],
      "text/plain": [
       "            sid       pid             req_time             o             d  \\\n",
       "499995  3136563  113317.0  2018-10-26 12:53:24  116.54,40.07  116.38,39.94   \n",
       "499996  1775691       NaN  2018-10-09 16:40:51  116.50,40.00  116.58,39.91   \n",
       "499997   722748  193800.0  2018-10-01 16:46:52  116.17,39.71  116.20,39.75   \n",
       "499998  1594185       NaN  2018-10-03 12:27:51  116.32,40.06  116.16,40.23   \n",
       "499999  1795967  101673.0  2018-11-29 10:01:13  116.50,39.89  116.37,39.94   \n",
       "\n",
       "        click_mode            plan_time  \\\n",
       "499995         2.0  2018-10-26 12:53:24   \n",
       "499996         0.0                  NaN   \n",
       "499997         6.0  2018-10-01 16:46:52   \n",
       "499998         3.0  2018-10-03 12:27:51   \n",
       "499999         4.0  2018-11-29 10:01:13   \n",
       "\n",
       "                                                    plans  \n",
       "499995  [{\"distance\": 29571, \"price\": 600, \"eta\": 4449...  \n",
       "499996                                                NaN  \n",
       "499997  [{\"distance\": 7634, \"price\": \"\", \"eta\": 2308, ...  \n",
       "499998  [{\"distance\": 26955, \"price\": \"\", \"eta\": 2084,...  \n",
       "499999  [{\"distance\": 19329, \"price\": 500, \"eta\": 3787...  "
      ]
     },
     "execution_count": 22,
     "metadata": {},
     "output_type": "execute_result"
    }
   ],
   "source": [
    "tr_data.tail()"
   ]
  },
  {
   "cell_type": "code",
   "execution_count": 23,
   "metadata": {},
   "outputs": [
    {
     "data": {
      "text/html": [
       "<div>\n",
       "<style scoped>\n",
       "    .dataframe tbody tr th:only-of-type {\n",
       "        vertical-align: middle;\n",
       "    }\n",
       "\n",
       "    .dataframe tbody tr th {\n",
       "        vertical-align: top;\n",
       "    }\n",
       "\n",
       "    .dataframe thead th {\n",
       "        text-align: right;\n",
       "    }\n",
       "</style>\n",
       "<table border=\"1\" class=\"dataframe\">\n",
       "  <thead>\n",
       "    <tr style=\"text-align: right;\">\n",
       "      <th></th>\n",
       "      <th>sid</th>\n",
       "      <th>pid</th>\n",
       "      <th>req_time</th>\n",
       "      <th>o</th>\n",
       "      <th>d</th>\n",
       "      <th>plan_time</th>\n",
       "      <th>plans</th>\n",
       "      <th>click_mode</th>\n",
       "    </tr>\n",
       "  </thead>\n",
       "  <tbody>\n",
       "    <tr>\n",
       "      <th>94353</th>\n",
       "      <td>471555</td>\n",
       "      <td>NaN</td>\n",
       "      <td>2018-12-01 22:32:41</td>\n",
       "      <td>116.34,39.78</td>\n",
       "      <td>116.47,39.95</td>\n",
       "      <td>2018-12-01 22:32:41</td>\n",
       "      <td>[{\"distance\": 28555, \"price\": \"\", \"eta\": 2366,...</td>\n",
       "      <td>-1</td>\n",
       "    </tr>\n",
       "    <tr>\n",
       "      <th>94354</th>\n",
       "      <td>1123933</td>\n",
       "      <td>NaN</td>\n",
       "      <td>2018-12-05 17:44:49</td>\n",
       "      <td>116.34,39.71</td>\n",
       "      <td>116.34,39.78</td>\n",
       "      <td>2018-12-05 17:44:49</td>\n",
       "      <td>[{\"distance\": 10469, \"price\": \"\", \"eta\": 2223,...</td>\n",
       "      <td>-1</td>\n",
       "    </tr>\n",
       "    <tr>\n",
       "      <th>94355</th>\n",
       "      <td>1409146</td>\n",
       "      <td>162194.0</td>\n",
       "      <td>2018-12-03 12:02:04</td>\n",
       "      <td>116.25,39.92</td>\n",
       "      <td>116.29,39.91</td>\n",
       "      <td>2018-12-03 12:02:04</td>\n",
       "      <td>[{\"distance\": 6333, \"price\": 500, \"eta\": 2331,...</td>\n",
       "      <td>-1</td>\n",
       "    </tr>\n",
       "    <tr>\n",
       "      <th>94356</th>\n",
       "      <td>1338606</td>\n",
       "      <td>NaN</td>\n",
       "      <td>2018-12-04 22:34:20</td>\n",
       "      <td>116.41,40.06</td>\n",
       "      <td>116.33,39.96</td>\n",
       "      <td>2018-12-04 22:34:20</td>\n",
       "      <td>[{\"distance\": 18235, \"price\": \"\", \"eta\": 2300,...</td>\n",
       "      <td>-1</td>\n",
       "    </tr>\n",
       "    <tr>\n",
       "      <th>94357</th>\n",
       "      <td>1353834</td>\n",
       "      <td>NaN</td>\n",
       "      <td>2018-12-04 11:31:05</td>\n",
       "      <td>116.41,39.92</td>\n",
       "      <td>116.36,39.88</td>\n",
       "      <td>2018-12-04 11:31:05</td>\n",
       "      <td>[{\"distance\": 9836, \"price\": 600, \"eta\": 3109,...</td>\n",
       "      <td>-1</td>\n",
       "    </tr>\n",
       "  </tbody>\n",
       "</table>\n",
       "</div>"
      ],
      "text/plain": [
       "           sid       pid             req_time             o             d  \\\n",
       "94353   471555       NaN  2018-12-01 22:32:41  116.34,39.78  116.47,39.95   \n",
       "94354  1123933       NaN  2018-12-05 17:44:49  116.34,39.71  116.34,39.78   \n",
       "94355  1409146  162194.0  2018-12-03 12:02:04  116.25,39.92  116.29,39.91   \n",
       "94356  1338606       NaN  2018-12-04 22:34:20  116.41,40.06  116.33,39.96   \n",
       "94357  1353834       NaN  2018-12-04 11:31:05  116.41,39.92  116.36,39.88   \n",
       "\n",
       "                 plan_time                                              plans  \\\n",
       "94353  2018-12-01 22:32:41  [{\"distance\": 28555, \"price\": \"\", \"eta\": 2366,...   \n",
       "94354  2018-12-05 17:44:49  [{\"distance\": 10469, \"price\": \"\", \"eta\": 2223,...   \n",
       "94355  2018-12-03 12:02:04  [{\"distance\": 6333, \"price\": 500, \"eta\": 2331,...   \n",
       "94356  2018-12-04 22:34:20  [{\"distance\": 18235, \"price\": \"\", \"eta\": 2300,...   \n",
       "94357  2018-12-04 11:31:05  [{\"distance\": 9836, \"price\": 600, \"eta\": 3109,...   \n",
       "\n",
       "       click_mode  \n",
       "94353          -1  \n",
       "94354          -1  \n",
       "94355          -1  \n",
       "94356          -1  \n",
       "94357          -1  "
      ]
     },
     "execution_count": 23,
     "metadata": {},
     "output_type": "execute_result"
    }
   ],
   "source": [
    "te_data.tail()"
   ]
  },
  {
   "cell_type": "code",
   "execution_count": 26,
   "metadata": {},
   "outputs": [
    {
     "data": {
      "text/html": [
       "<div>\n",
       "<style scoped>\n",
       "    .dataframe tbody tr th:only-of-type {\n",
       "        vertical-align: middle;\n",
       "    }\n",
       "\n",
       "    .dataframe tbody tr th {\n",
       "        vertical-align: top;\n",
       "    }\n",
       "\n",
       "    .dataframe thead th {\n",
       "        text-align: right;\n",
       "    }\n",
       "</style>\n",
       "<table border=\"1\" class=\"dataframe\">\n",
       "  <thead>\n",
       "    <tr style=\"text-align: right;\">\n",
       "      <th></th>\n",
       "      <th>click_mode</th>\n",
       "      <th>d</th>\n",
       "      <th>o</th>\n",
       "      <th>pid</th>\n",
       "      <th>plans</th>\n",
       "      <th>req_time</th>\n",
       "      <th>sid</th>\n",
       "    </tr>\n",
       "  </thead>\n",
       "  <tbody>\n",
       "    <tr>\n",
       "      <th>594353</th>\n",
       "      <td>-1.0</td>\n",
       "      <td>116.47,39.95</td>\n",
       "      <td>116.34,39.78</td>\n",
       "      <td>NaN</td>\n",
       "      <td>[{\"distance\": 28555, \"price\": \"\", \"eta\": 2366,...</td>\n",
       "      <td>2018-12-01 22:32:41</td>\n",
       "      <td>471555</td>\n",
       "    </tr>\n",
       "    <tr>\n",
       "      <th>594354</th>\n",
       "      <td>-1.0</td>\n",
       "      <td>116.34,39.78</td>\n",
       "      <td>116.34,39.71</td>\n",
       "      <td>NaN</td>\n",
       "      <td>[{\"distance\": 10469, \"price\": \"\", \"eta\": 2223,...</td>\n",
       "      <td>2018-12-05 17:44:49</td>\n",
       "      <td>1123933</td>\n",
       "    </tr>\n",
       "    <tr>\n",
       "      <th>594355</th>\n",
       "      <td>-1.0</td>\n",
       "      <td>116.29,39.91</td>\n",
       "      <td>116.25,39.92</td>\n",
       "      <td>162194.0</td>\n",
       "      <td>[{\"distance\": 6333, \"price\": 500, \"eta\": 2331,...</td>\n",
       "      <td>2018-12-03 12:02:04</td>\n",
       "      <td>1409146</td>\n",
       "    </tr>\n",
       "    <tr>\n",
       "      <th>594356</th>\n",
       "      <td>-1.0</td>\n",
       "      <td>116.33,39.96</td>\n",
       "      <td>116.41,40.06</td>\n",
       "      <td>NaN</td>\n",
       "      <td>[{\"distance\": 18235, \"price\": \"\", \"eta\": 2300,...</td>\n",
       "      <td>2018-12-04 22:34:20</td>\n",
       "      <td>1338606</td>\n",
       "    </tr>\n",
       "    <tr>\n",
       "      <th>594357</th>\n",
       "      <td>-1.0</td>\n",
       "      <td>116.36,39.88</td>\n",
       "      <td>116.41,39.92</td>\n",
       "      <td>NaN</td>\n",
       "      <td>[{\"distance\": 9836, \"price\": 600, \"eta\": 3109,...</td>\n",
       "      <td>2018-12-04 11:31:05</td>\n",
       "      <td>1353834</td>\n",
       "    </tr>\n",
       "  </tbody>\n",
       "</table>\n",
       "</div>"
      ],
      "text/plain": [
       "        click_mode             d             o       pid  \\\n",
       "594353        -1.0  116.47,39.95  116.34,39.78       NaN   \n",
       "594354        -1.0  116.34,39.78  116.34,39.71       NaN   \n",
       "594355        -1.0  116.29,39.91  116.25,39.92  162194.0   \n",
       "594356        -1.0  116.33,39.96  116.41,40.06       NaN   \n",
       "594357        -1.0  116.36,39.88  116.41,39.92       NaN   \n",
       "\n",
       "                                                    plans  \\\n",
       "594353  [{\"distance\": 28555, \"price\": \"\", \"eta\": 2366,...   \n",
       "594354  [{\"distance\": 10469, \"price\": \"\", \"eta\": 2223,...   \n",
       "594355  [{\"distance\": 6333, \"price\": 500, \"eta\": 2331,...   \n",
       "594356  [{\"distance\": 18235, \"price\": \"\", \"eta\": 2300,...   \n",
       "594357  [{\"distance\": 9836, \"price\": 600, \"eta\": 3109,...   \n",
       "\n",
       "                   req_time      sid  \n",
       "594353  2018-12-01 22:32:41   471555  \n",
       "594354  2018-12-05 17:44:49  1123933  \n",
       "594355  2018-12-03 12:02:04  1409146  \n",
       "594356  2018-12-04 22:34:20  1338606  \n",
       "594357  2018-12-04 11:31:05  1353834  "
      ]
     },
     "execution_count": 26,
     "metadata": {},
     "output_type": "execute_result"
    }
   ],
   "source": [
    "data.tail()"
   ]
  },
  {
   "cell_type": "code",
   "execution_count": 30,
   "metadata": {},
   "outputs": [],
   "source": [
    "def gen_od_feas(data):\n",
    "    data['o1'] = data['o'].apply(lambda x: float(x.split(',')[0]))\n",
    "    data['o2'] = data['o'].apply(lambda x: float(x.split(',')[1]))\n",
    "    data['d1'] = data['d'].apply(lambda x: float(x.split(',')[0]))\n",
    "    data['d2'] = data['d'].apply(lambda x: float(x.split(',')[1]))\n",
    "    data = data.drop(['o', 'd'], axis=1)\n",
    "    return data"
   ]
  },
  {
   "cell_type": "code",
   "execution_count": 31,
   "metadata": {},
   "outputs": [],
   "source": [
    "data = gen_od_feas(data)"
   ]
  },
  {
   "cell_type": "code",
   "execution_count": 32,
   "metadata": {},
   "outputs": [
    {
     "data": {
      "text/html": [
       "<div>\n",
       "<style scoped>\n",
       "    .dataframe tbody tr th:only-of-type {\n",
       "        vertical-align: middle;\n",
       "    }\n",
       "\n",
       "    .dataframe tbody tr th {\n",
       "        vertical-align: top;\n",
       "    }\n",
       "\n",
       "    .dataframe thead th {\n",
       "        text-align: right;\n",
       "    }\n",
       "</style>\n",
       "<table border=\"1\" class=\"dataframe\">\n",
       "  <thead>\n",
       "    <tr style=\"text-align: right;\">\n",
       "      <th></th>\n",
       "      <th>click_mode</th>\n",
       "      <th>pid</th>\n",
       "      <th>plans</th>\n",
       "      <th>req_time</th>\n",
       "      <th>sid</th>\n",
       "      <th>o1</th>\n",
       "      <th>o2</th>\n",
       "      <th>d1</th>\n",
       "      <th>d2</th>\n",
       "    </tr>\n",
       "  </thead>\n",
       "  <tbody>\n",
       "    <tr>\n",
       "      <th>594353</th>\n",
       "      <td>-1.0</td>\n",
       "      <td>NaN</td>\n",
       "      <td>[{\"distance\": 28555, \"price\": \"\", \"eta\": 2366,...</td>\n",
       "      <td>2018-12-01 22:32:41</td>\n",
       "      <td>471555</td>\n",
       "      <td>116.34</td>\n",
       "      <td>39.78</td>\n",
       "      <td>116.47</td>\n",
       "      <td>39.95</td>\n",
       "    </tr>\n",
       "    <tr>\n",
       "      <th>594354</th>\n",
       "      <td>-1.0</td>\n",
       "      <td>NaN</td>\n",
       "      <td>[{\"distance\": 10469, \"price\": \"\", \"eta\": 2223,...</td>\n",
       "      <td>2018-12-05 17:44:49</td>\n",
       "      <td>1123933</td>\n",
       "      <td>116.34</td>\n",
       "      <td>39.71</td>\n",
       "      <td>116.34</td>\n",
       "      <td>39.78</td>\n",
       "    </tr>\n",
       "    <tr>\n",
       "      <th>594355</th>\n",
       "      <td>-1.0</td>\n",
       "      <td>162194.0</td>\n",
       "      <td>[{\"distance\": 6333, \"price\": 500, \"eta\": 2331,...</td>\n",
       "      <td>2018-12-03 12:02:04</td>\n",
       "      <td>1409146</td>\n",
       "      <td>116.25</td>\n",
       "      <td>39.92</td>\n",
       "      <td>116.29</td>\n",
       "      <td>39.91</td>\n",
       "    </tr>\n",
       "    <tr>\n",
       "      <th>594356</th>\n",
       "      <td>-1.0</td>\n",
       "      <td>NaN</td>\n",
       "      <td>[{\"distance\": 18235, \"price\": \"\", \"eta\": 2300,...</td>\n",
       "      <td>2018-12-04 22:34:20</td>\n",
       "      <td>1338606</td>\n",
       "      <td>116.41</td>\n",
       "      <td>40.06</td>\n",
       "      <td>116.33</td>\n",
       "      <td>39.96</td>\n",
       "    </tr>\n",
       "    <tr>\n",
       "      <th>594357</th>\n",
       "      <td>-1.0</td>\n",
       "      <td>NaN</td>\n",
       "      <td>[{\"distance\": 9836, \"price\": 600, \"eta\": 3109,...</td>\n",
       "      <td>2018-12-04 11:31:05</td>\n",
       "      <td>1353834</td>\n",
       "      <td>116.41</td>\n",
       "      <td>39.92</td>\n",
       "      <td>116.36</td>\n",
       "      <td>39.88</td>\n",
       "    </tr>\n",
       "  </tbody>\n",
       "</table>\n",
       "</div>"
      ],
      "text/plain": [
       "        click_mode       pid  \\\n",
       "594353        -1.0       NaN   \n",
       "594354        -1.0       NaN   \n",
       "594355        -1.0  162194.0   \n",
       "594356        -1.0       NaN   \n",
       "594357        -1.0       NaN   \n",
       "\n",
       "                                                    plans  \\\n",
       "594353  [{\"distance\": 28555, \"price\": \"\", \"eta\": 2366,...   \n",
       "594354  [{\"distance\": 10469, \"price\": \"\", \"eta\": 2223,...   \n",
       "594355  [{\"distance\": 6333, \"price\": 500, \"eta\": 2331,...   \n",
       "594356  [{\"distance\": 18235, \"price\": \"\", \"eta\": 2300,...   \n",
       "594357  [{\"distance\": 9836, \"price\": 600, \"eta\": 3109,...   \n",
       "\n",
       "                   req_time      sid      o1     o2      d1     d2  \n",
       "594353  2018-12-01 22:32:41   471555  116.34  39.78  116.47  39.95  \n",
       "594354  2018-12-05 17:44:49  1123933  116.34  39.71  116.34  39.78  \n",
       "594355  2018-12-03 12:02:04  1409146  116.25  39.92  116.29  39.91  \n",
       "594356  2018-12-04 22:34:20  1338606  116.41  40.06  116.33  39.96  \n",
       "594357  2018-12-04 11:31:05  1353834  116.41  39.92  116.36  39.88  "
      ]
     },
     "execution_count": 32,
     "metadata": {},
     "output_type": "execute_result"
    }
   ],
   "source": [
    "data.tail()"
   ]
  },
  {
   "cell_type": "code",
   "execution_count": 36,
   "metadata": {},
   "outputs": [
    {
     "data": {
      "text/plain": [
       "'[{\"distance\": 5219, \"price\": 300, \"eta\": 1367, \"transport_mode\": 9}, {\"distance\": 4537, \"price\": \"\", \"eta\": 1035, \"transport_mode\": 3}, {\"distance\": 4537, \"price\": 2100, \"eta\": 1095, \"transport_mode\": 4}, {\"distance\": 4118, \"price\": \"\", \"eta\": 1243, \"transport_mode\": 6}, {\"distance\": 5219, \"price\": 300, \"eta\": 1679, \"transport_mode\": 2}, {\"distance\": 4046, \"price\": \"\", \"eta\": 3672, \"transport_mode\": 5}]'"
      ]
     },
     "execution_count": 36,
     "metadata": {},
     "output_type": "execute_result"
    }
   ],
   "source": [
    "data['plans'][0]"
   ]
  },
  {
   "cell_type": "code",
   "execution_count": 98,
   "metadata": {},
   "outputs": [
    {
     "data": {
      "application/vnd.jupyter.widget-view+json": {
       "model_id": "360c48efa7ae40c0bd61a8ec7ae8a90b",
       "version_major": 2,
       "version_minor": 0
      },
      "text/plain": [
       "HBox(children=(IntProgress(value=1, bar_style='info', max=1), HTML(value='')))"
      ]
     },
     "metadata": {},
     "output_type": "display_data"
    }
   ],
   "source": [
    "n = data.shape[0]\n",
    "mode_list_feas = np.zeros((n, 22))\n",
    "speed, pricePerDis = np.zeros((n,11)), np.zeros((n,11))\n",
    "for i, plan in tqdm_notebook(enumerate(data['plans'].values)):\n",
    "#     if i == 5:\n",
    "#         break\n",
    "    try:\n",
    "        cur_plan_list = json.loads(plan)\n",
    "    except:\n",
    "        cur_plan_list = []\n",
    "    if len(cur_plan_list) == 0:\n",
    "        speed[i] = speed[i]-1\n",
    "        pricePerDis[i] = pricePerDis[i]-1\n",
    "    else:\n",
    "        for tmp_dit in cur_plan_list:\n",
    "#             print(tmp_dit['distance'])\n",
    "#             print(tmp_dit['eta'])\n",
    "            _speed = round(int(tmp_dit['distance'])/int(tmp_dit['eta']) , 2)\n",
    "            if tmp_dit['price'] == '':\n",
    "                tmp_dit['price'] = 0\n",
    "            _pricePerDis = round(int(tmp_dit['price'])/int(tmp_dit['distance']), 2)\n",
    "            speed[i][int(tmp_dit['transport_mode'])-1] = _speed\n",
    "            pricePerDis[i][int(tmp_dit['transport_mode'])-1] = _pricePerDis"
   ]
  },
  {
   "cell_type": "code",
   "execution_count": 105,
   "metadata": {},
   "outputs": [],
   "source": [
    "feature_data = pd.DataFrame(mode_list_feas)\n",
    "feature_data.columns = ['fea_{}'.format(i) for i in range(22)]"
   ]
  },
  {
   "cell_type": "code",
   "execution_count": 117,
   "metadata": {},
   "outputs": [],
   "source": [
    "for i in range(22):\n",
    "    if i%2 == 0:\n",
    "        feature_data['fea_{}'.format(i)] = speed[:,int(i/2)]\n",
    "    else:\n",
    "        feature_data['fea_{}'.format(i)] = pricePerDis[:,int(i/2)]"
   ]
  },
  {
   "cell_type": "code",
   "execution_count": 119,
   "metadata": {},
   "outputs": [],
   "source": [
    "data = pd.concat([data, feature_data], axis=1)"
   ]
  },
  {
   "cell_type": "code",
   "execution_count": 122,
   "metadata": {},
   "outputs": [],
   "source": [
    "data = data.drop(['plans'], axis=1)"
   ]
  },
  {
   "cell_type": "code",
   "execution_count": 125,
   "metadata": {},
   "outputs": [],
   "source": [
    "from sklearn.decomposition import TruncatedSVD\n",
    "def read_profile_data():\n",
    "    profile_data = pd.read_csv('data/profiles.csv')\n",
    "    profile_na = np.zeros(67)\n",
    "    profile_na[0] = -1\n",
    "    profile_na = pd.DataFrame(profile_na.reshape(1, -1))\n",
    "    profile_na.columns = profile_data.columns\n",
    "    profile_data = profile_data.append(profile_na)\n",
    "    return profile_data\n",
    "\n",
    "profile_data = read_profile_data()\n",
    "x = profile_data.drop(['pid'], axis=1).values\n",
    "svd = TruncatedSVD(n_components=20, n_iter=20, random_state=2019)\n",
    "svd_x = svd.fit_transform(x)\n",
    "svd_feas = pd.DataFrame(svd_x)\n",
    "svd_feas.columns = ['svd_fea_{}'.format(i) for i in range(20)]\n",
    "svd_feas['pid'] = profile_data['pid'].values\n",
    "data['pid'] = data['pid'].fillna(-1)\n",
    "data = data.merge(svd_feas, on='pid', how='left')"
   ]
  },
  {
   "cell_type": "code",
   "execution_count": 127,
   "metadata": {},
   "outputs": [],
   "source": [
    "data['req_time'] = pd.to_datetime(data['req_time'])\n",
    "data['weekday'] = data['req_time'].dt.dayofweek\n",
    "data['hour'] = data['req_time'].dt.hour\n",
    "data = data.drop(['req_time'], axis=1)"
   ]
  },
  {
   "cell_type": "code",
   "execution_count": 128,
   "metadata": {},
   "outputs": [],
   "source": [
    "data.to_csv(\"data.csv\")"
   ]
  },
  {
   "cell_type": "code",
   "execution_count": 130,
   "metadata": {},
   "outputs": [],
   "source": [
    "train_data = data[data['click_mode'] != -1]\n",
    "test_data = data[data['click_mode'] == -1]\n",
    "submit = test_data[['sid']].copy()\n",
    "train_data = train_data.drop(['sid', 'pid'], axis=1)\n",
    "test_data = test_data.drop(['sid', 'pid'], axis=1)\n",
    "test_data = test_data.drop(['click_mode'], axis=1)\n",
    "train_y = train_data['click_mode'].values\n",
    "train_x = train_data.drop(['click_mode'], axis=1)"
   ]
  },
  {
   "cell_type": "code",
   "execution_count": 137,
   "metadata": {},
   "outputs": [
    {
     "data": {
      "text/plain": [
       "Index(['o1', 'o2', 'd1', 'd2', 'fea_0', 'fea_1', 'fea_2', 'fea_3', 'fea_4',\n",
       "       'fea_5', 'fea_6', 'fea_7', 'fea_8', 'fea_9', 'fea_10', 'fea_11',\n",
       "       'fea_12', 'fea_13', 'fea_14', 'fea_15', 'fea_16', 'fea_17', 'fea_18',\n",
       "       'fea_19', 'fea_20', 'fea_21', 'svd_fea_0', 'svd_fea_1', 'svd_fea_2',\n",
       "       'svd_fea_3', 'svd_fea_4', 'svd_fea_5', 'svd_fea_6', 'svd_fea_7',\n",
       "       'svd_fea_8', 'svd_fea_9', 'svd_fea_10', 'svd_fea_11', 'svd_fea_12',\n",
       "       'svd_fea_13', 'svd_fea_14', 'svd_fea_15', 'svd_fea_16', 'svd_fea_17',\n",
       "       'svd_fea_18', 'svd_fea_19', 'weekday', 'hour'],\n",
       "      dtype='object')"
      ]
     },
     "execution_count": 137,
     "metadata": {},
     "output_type": "execute_result"
    }
   ],
   "source": [
    "train_x.columns"
   ]
  },
  {
   "cell_type": "code",
   "execution_count": 138,
   "metadata": {},
   "outputs": [
    {
     "name": "stderr",
     "output_type": "stream",
     "text": [
      "D:\\zhuangji\\anaconda\\lib\\site-packages\\ipykernel_launcher.py:11: FutureWarning: Method .as_matrix will be removed in a future version. Use .values instead.\n",
      "  # This is added back by InteractiveShellApp.init_path()\n",
      "D:\\zhuangji\\anaconda\\lib\\site-packages\\ipykernel_launcher.py:12: FutureWarning: Method .as_matrix will be removed in a future version. Use .values instead.\n",
      "  if sys.path[0] == '':\n"
     ]
    },
    {
     "data": {
      "text/plain": [
       "array([9., 1., 9., ..., 6., 3., 4.])"
      ]
     },
     "execution_count": 138,
     "metadata": {},
     "output_type": "execute_result"
    }
   ],
   "source": [
    "feature_columns_to_use = ['o1', 'o2', 'd1', 'd2', 'fea_0', 'fea_1', 'fea_2', 'fea_3', 'fea_4',\n",
    "       'fea_5', 'fea_6', 'fea_7', 'fea_8', 'fea_9', 'fea_10', 'fea_11',\n",
    "       'fea_12', 'fea_13', 'fea_14', 'fea_15', 'fea_16', 'fea_17', 'fea_18',\n",
    "       'fea_19', 'fea_20', 'fea_21', 'svd_fea_0', 'svd_fea_1', 'svd_fea_2',\n",
    "       'svd_fea_3', 'svd_fea_4', 'svd_fea_5', 'svd_fea_6', 'svd_fea_7',\n",
    "       'svd_fea_8', 'svd_fea_9', 'svd_fea_10', 'svd_fea_11', 'svd_fea_12',\n",
    "       'svd_fea_13', 'svd_fea_14', 'svd_fea_15', 'svd_fea_16', 'svd_fea_17',\n",
    "       'svd_fea_18', 'svd_fea_19', 'weekday', 'hour']\n",
    "train_for_matrix = train_x[feature_columns_to_use]\n",
    "test_for_matrix = test_data[feature_columns_to_use]\n",
    "train_X = train_for_matrix.as_matrix()\n",
    "test_X = test_for_matrix.as_matrix()\n",
    "train_y"
   ]
  },
  {
   "cell_type": "code",
   "execution_count": 140,
   "metadata": {},
   "outputs": [],
   "source": [
    "import xgboost as xgb\n",
    "from sklearn import preprocessing\n",
    "from sklearn.model_selection import StratifiedKFold\n",
    "from sklearn.metrics import f1_score\n",
    "from time import gmtime, strftime"
   ]
  },
  {
   "cell_type": "code",
   "execution_count": null,
   "metadata": {},
   "outputs": [],
   "source": [
    "gbm = xgb.XGBClassifier(silent=1, max_depth=10, n_estimators=1000, learning_rate=0.05)\n",
    "gbm.fit(train_X, train_y)"
   ]
  },
  {
   "cell_type": "code",
   "execution_count": null,
   "metadata": {},
   "outputs": [],
   "source": [
    "predictions = gbm.predict(test_X)"
   ]
  },
  {
   "cell_type": "code",
   "execution_count": null,
   "metadata": {},
   "outputs": [],
   "source": [
    "now_time = strftime(\"%Y-%m-%d-%H-%M-%S\", gmtime())\n",
    "submit['mode'] = predictions\n",
    "submit.to_csv(\n",
    "        'submit/{}_result_{}.csv'.format(model_name, now_time), index=False)"
   ]
  }
 ],
 "metadata": {
  "kernelspec": {
   "display_name": "Python 3",
   "language": "python",
   "name": "python3"
  },
  "language_info": {
   "codemirror_mode": {
    "name": "ipython",
    "version": 3
   },
   "file_extension": ".py",
   "mimetype": "text/x-python",
   "name": "python",
   "nbconvert_exporter": "python",
   "pygments_lexer": "ipython3",
   "version": "3.6.5"
  }
 },
 "nbformat": 4,
 "nbformat_minor": 2
}
